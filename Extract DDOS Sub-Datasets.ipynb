{
 "cells": [
  {
   "cell_type": "markdown",
   "id": "d1c4a43a-ca03-41b7-a121-5de90fc98372",
   "metadata": {
    "tags": []
   },
   "source": [
    "# DDoS data extraction from ToN-IoT, CIC-IDS and BOT-IoT datasets."
   ]
  },
  {
   "cell_type": "code",
   "execution_count": 1,
   "id": "43466799-2483-4793-a6b6-2e083d0c0403",
   "metadata": {},
   "outputs": [],
   "source": [
    "import pandas as pd"
   ]
  },
  {
   "cell_type": "code",
   "execution_count": 2,
   "id": "bc3352c9-0b9d-481d-9c64-bb982a6107a3",
   "metadata": {},
   "outputs": [],
   "source": [
    "chunk_size = 50000"
   ]
  },
  {
   "cell_type": "markdown",
   "id": "d6581cc9-c1e3-48c0-a5f8-4cbad1a6a482",
   "metadata": {},
   "source": [
    "Dataset ToN-IoT."
   ]
  },
  {
   "cell_type": "code",
   "execution_count": 3,
   "id": "d1ca3a82-8e40-4a19-927c-99bbac7290b7",
   "metadata": {},
   "outputs": [],
   "source": [
    "ton_iot_attack_filters = ['Benign', 'ddos']"
   ]
  },
  {
   "cell_type": "code",
   "execution_count": 4,
   "id": "251b8eaf-fd65-4575-9f0f-ac71a73da29e",
   "metadata": {},
   "outputs": [],
   "source": [
    "TextFileReader = pd.read_csv('./datasets/NF-ToN-IoT-v2.csv.gz', compression='gzip', chunksize=chunk_size)\n",
    "df_ton_iot_ddos = pd.DataFrame()\n",
    "\n",
    "for chunk in TextFileReader:\n",
    "    df_aux_chunk = pd.DataFrame(chunk)\n",
    "    if(df_ton_iot_ddos.empty):\n",
    "        df_ton_iot_ddos = df_aux_chunk[df_aux_chunk['Attack'].isin(ton_iot_attack_filters)]\n",
    "    else:\n",
    "        df_ton_iot_ddos = df_ton_iot_ddos.append(df_aux_chunk[df_aux_chunk['Attack'].isin(ton_iot_attack_filters)])"
   ]
  },
  {
   "cell_type": "code",
   "execution_count": 5,
   "id": "ce1b07fb-082f-475b-9eca-973342aad7d8",
   "metadata": {},
   "outputs": [],
   "source": [
    "df_ton_iot_ddos.to_csv('./datasets/NF-ToN-IoT-v2-DDoS.csv')"
   ]
  },
  {
   "cell_type": "code",
   "execution_count": 6,
   "id": "9bc8cc31-06de-4574-80b4-0257c2741aa7",
   "metadata": {},
   "outputs": [],
   "source": [
    "del df_ton_iot_ddos"
   ]
  },
  {
   "cell_type": "markdown",
   "id": "d3c5c04a-f1ca-4ac2-ae2d-080c8f69a25a",
   "metadata": {},
   "source": [
    "Dataset CIC-IDS."
   ]
  },
  {
   "cell_type": "code",
   "execution_count": 7,
   "id": "37a282e8-05c8-4b4b-8a27-70bc53328cef",
   "metadata": {},
   "outputs": [],
   "source": [
    "cic_ids_attack_filters = [\n",
    "    'Benign', 'DDoS attacks-LOIC-HTTP',\n",
    "    'DDOS attack-HOIC', 'DDOS attack-LOIC-UDP'\n",
    "]"
   ]
  },
  {
   "cell_type": "code",
   "execution_count": 8,
   "id": "10559f45-49e0-41be-8a30-b24bfdba8f7b",
   "metadata": {},
   "outputs": [],
   "source": [
    "TextFileReader = pd.read_csv('./datasets/NF-CSE-CIC-IDS2018-v2.csv.gz', compression='gzip', chunksize=chunk_size)\n",
    "df_cic_ids_ddos = pd.DataFrame()\n",
    "\n",
    "for chunk in TextFileReader:\n",
    "    df_aux_chunk = pd.DataFrame(chunk)\n",
    "    if(df_cic_ids_ddos.empty):\n",
    "        df_cic_ids_ddos = df_aux_chunk[df_aux_chunk['Attack'].isin(cic_ids_attack_filters)]\n",
    "    else:\n",
    "        df_cic_ids_ddos = df_cic_ids_ddos.append(df_aux_chunk[df_aux_chunk['Attack'].isin(cic_ids_attack_filters)])"
   ]
  },
  {
   "cell_type": "code",
   "execution_count": 9,
   "id": "0ad8e681-1be4-4b93-bd73-c79be42e4fc5",
   "metadata": {},
   "outputs": [],
   "source": [
    "df_cic_ids_ddos.to_csv('./datasets/NF-CSE-CIC-IDS2018-v2-DDoS.csv')"
   ]
  },
  {
   "cell_type": "code",
   "execution_count": 10,
   "id": "0cbbca64-06af-442c-ab07-cd1d543f0bab",
   "metadata": {},
   "outputs": [],
   "source": [
    "del df_cic_ids_ddos"
   ]
  },
  {
   "cell_type": "markdown",
   "id": "e8c14cea-4fe0-4ef3-88b5-0c6b31a92aca",
   "metadata": {},
   "source": [
    "Dataset BOT-IoT. "
   ]
  },
  {
   "cell_type": "code",
   "execution_count": 11,
   "id": "c5f5b32b-c0a5-4156-bb85-5e5a0e3de3a3",
   "metadata": {},
   "outputs": [],
   "source": [
    "bot_iot_attack_filters = [\n",
    "    'Benign', 'DDoS'\n",
    "]"
   ]
  },
  {
   "cell_type": "code",
   "execution_count": 12,
   "id": "8e143a77-aaba-458b-bd11-58fd6e146f7b",
   "metadata": {
    "tags": []
   },
   "outputs": [],
   "source": [
    "TextFileReader = pd.read_csv('./datasets/NF-BoT-IoT-v2.csv.gz', compression='gzip', chunksize=chunk_size)\n",
    "df_bot_iot_ddos = pd.DataFrame()\n",
    "\n",
    "for chunk in TextFileReader:\n",
    "    df_aux_chunk = pd.DataFrame(chunk)\n",
    "    if(df_bot_iot_ddos.empty):\n",
    "        df_bot_iot_ddos = df_aux_chunk[df_aux_chunk['Attack'].isin(bot_iot_attack_filters)]\n",
    "    else:\n",
    "        df_bot_iot_ddos = df_bot_iot_ddos.append(df_aux_chunk[df_aux_chunk['Attack'].isin(bot_iot_attack_filters)])"
   ]
  },
  {
   "cell_type": "code",
   "execution_count": 13,
   "id": "738818dc-a952-4583-a931-e407a9e61282",
   "metadata": {},
   "outputs": [],
   "source": [
    "df_bot_iot_ddos.to_csv('./datasets/NF-BoT-IoT-v2-DDoS.csv')"
   ]
  },
  {
   "cell_type": "code",
   "execution_count": 14,
   "id": "481b8c6b-4567-4dd3-83ea-ae5facde9053",
   "metadata": {},
   "outputs": [],
   "source": [
    "del df_bot_iot_ddos"
   ]
  }
 ],
 "metadata": {
  "kernelspec": {
   "display_name": "Python 3 (ipykernel)",
   "language": "python",
   "name": "python3"
  },
  "language_info": {
   "codemirror_mode": {
    "name": "ipython",
    "version": 3
   },
   "file_extension": ".py",
   "mimetype": "text/x-python",
   "name": "python",
   "nbconvert_exporter": "python",
   "pygments_lexer": "ipython3",
   "version": "3.10.4"
  }
 },
 "nbformat": 4,
 "nbformat_minor": 5
}
